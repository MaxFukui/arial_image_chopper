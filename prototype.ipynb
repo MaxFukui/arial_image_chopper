{
 "cells": [
  {
   "cell_type": "code",
   "execution_count": 6,
   "metadata": {},
   "source": [
    "import rasterio\n",
    "from rasterio.mask import mask\n",
    "import geopandas as gpd\n",
    "import numpy as np\n",
    "import matplotlib.pyplot as plt\n",
    "\n",
    "def create_masked_image(image_path, shapes):\n",
    "    # Open the raster and read in the shapefiles as a mask\n",
    "    with rasterio.open(image_path) as src:\n",
    "        out_image, out_transform = mask(src, shapes, crop=True)\n",
    "        out_meta = src.meta.copy()\n",
    "    \n",
    "    out_meta.update({\"driver\": \"GTiff\",\n",
    "                     \"height\": out_image.shape[1],\n",
    "                     \"width\": out_image.shape[2],\n",
    "                     \"transform\": out_transform})\n",
    "    \n",
    "    return out_image, out_meta\n",
    "\n",
    "def plot_image(image):\n",
    "    plt.imshow(image[0], cmap='viridis')\n",
    "    plt.show()\n",
    "\n",
    "# Load shapefiles using Geopandas\n",
    "## Create an array of file path geometry\n",
    "main_path = \"C:/Users/max/Documents/{file_name}.shp\"\n",
    "gdf_list =  [\"Background\", \"Grass\", \"Bush\", \"Vegetation\", \"Foreground_UPS\"]\n",
    "gdf = gpd.read_file(main_path.format(file_name=gdf_list[0]))\n",
    "\n",
    "# Convert the geometries to the format expected by rasterio\n",
    "geometries = [feature[\"geometry\"] for _, feature in gdf.iterrows()]\n",
    "\n",
    "# Path to your orthophoto\n",
    "image_fp = 'D:/development/UPS/2018 - DJI P4 Pro/UPS_SUR_transparent_mosaic_group1.tif'\n",
    "\n",
    "# Create the masked image\n",
    "masked_image, meta = create_masked_image(image_fp, geometries)\n",
    "\n",
    "# Display the image\n",
    "plot_image(masked_image)"
   ],
   "outputs": []
  },
  {
   "cell_type": "code",
   "execution_count": null,
   "metadata": {},
   "source": [],
   "outputs": []
  }
 ],
 "metadata": {
  "kernelspec": {
   "display_name": "arial_image_chopper",
   "language": "python",
   "name": "python3"
  },
  "language_info": {
   "codemirror_mode": {
    "name": "ipython",
    "version": 3
   },
   "file_extension": ".py",
   "mimetype": "text/x-python",
   "name": "python",
   "nbconvert_exporter": "python",
   "pygments_lexer": "ipython3",
   "version": "3.9.19"
  }
 },
 "nbformat": 4,
 "nbformat_minor": 2
}
